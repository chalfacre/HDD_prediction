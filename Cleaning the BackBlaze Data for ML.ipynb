{
 "cells": [
  {
   "cell_type": "markdown",
   "metadata": {},
   "source": [
    "CLEAN DATA\n",
    "The following demonstrates how the backblaze data sheets were cleaned before running any ML algorithms."
   ]
  },
  {
   "cell_type": "code",
   "execution_count": 49,
   "metadata": {
    "collapsed": false
   },
   "outputs": [],
   "source": [
    "import numpy as np\n",
    "import pandas as pd\n",
    "from sklearn.preprocessing import LabelEncoder\n",
    "\n",
    "\n",
    "### start program here\n",
    "\n",
    "hdd_train = pd.read_csv('../input/harddrive.csv') #,nrows=50\n",
    "hdd_test = pd.read_csv('../input/2016_jj.csv')\n",
    "\n",
    "# merging of the test files resulted in multiple headers in the file -- remove them\n",
    "hdd_test = hdd_test[hdd_test.smart_5_raw != 'smart_5_raw']\n",
    "#print (\"Number of test rows are {}\".format(len(hdd_test.index)))\n",
    "\n",
    "# removed normalized values, and model, and capacity, since they are constants\n",
    "hdd_train = hdd_train.select(lambda x: x[-10:] != 'normalized', axis=1)\n",
    "hdd_test = hdd_test.select(lambda x: x[-10:] != 'normalized', axis=1)\n",
    "\n",
    "# found only in training file\n",
    "hdd_train.drop(['smart_201_raw', 'smart_13_raw'], inplace=True, axis=1)\n",
    "\n",
    "columns_to_drop =['date', 'capacity_bytes']  # new\n",
    "hdd_train.drop(columns_to_drop, inplace=True, axis=1)\n",
    "hdd_test.drop(columns_to_drop, inplace=True, axis=1)\n",
    "\n",
    "# drop constant columns\n",
    "hdd_train = hdd_train.loc[:, ~hdd_train.isnull().all()]\n",
    "hdd_test = hdd_test.loc[:, ~hdd_test.isnull().all()]\n"
   ]
  },
  {
   "cell_type": "code",
   "execution_count": 50,
   "metadata": {
    "collapsed": false
   },
   "outputs": [
    {
     "data": {
      "text/plain": [
       "Index([u'serial_number', u'model', u'failure', u'smart_1_raw', u'smart_2_raw',\n",
       "       u'smart_3_raw', u'smart_4_raw', u'smart_5_raw', u'smart_7_raw',\n",
       "       u'smart_8_raw', u'smart_9_raw', u'smart_10_raw', u'smart_11_raw',\n",
       "       u'smart_12_raw', u'smart_22_raw', u'smart_183_raw', u'smart_184_raw',\n",
       "       u'smart_187_raw', u'smart_188_raw', u'smart_189_raw', u'smart_190_raw',\n",
       "       u'smart_191_raw', u'smart_192_raw', u'smart_193_raw', u'smart_194_raw',\n",
       "       u'smart_195_raw', u'smart_196_raw', u'smart_197_raw', u'smart_198_raw',\n",
       "       u'smart_199_raw', u'smart_200_raw', u'smart_220_raw', u'smart_222_raw',\n",
       "       u'smart_223_raw', u'smart_224_raw', u'smart_225_raw', u'smart_226_raw',\n",
       "       u'smart_240_raw', u'smart_241_raw', u'smart_242_raw', u'smart_250_raw',\n",
       "       u'smart_251_raw', u'smart_252_raw', u'smart_254_raw'],\n",
       "      dtype='object')"
      ]
     },
     "execution_count": 50,
     "metadata": {},
     "output_type": "execute_result"
    }
   ],
   "source": [
    "hdd_train.columns"
   ]
  },
  {
   "cell_type": "code",
   "execution_count": 51,
   "metadata": {
    "collapsed": false
   },
   "outputs": [
    {
     "data": {
      "text/plain": [
       "(3179295, 44)"
      ]
     },
     "execution_count": 51,
     "metadata": {},
     "output_type": "execute_result"
    }
   ],
   "source": [
    "hdd_train.shape"
   ]
  },
  {
   "cell_type": "code",
   "execution_count": 52,
   "metadata": {
    "collapsed": false
   },
   "outputs": [
    {
     "data": {
      "text/plain": [
       "Index([u'serial_number', u'model', u'failure', u'smart_1_raw', u'smart_2_raw',\n",
       "       u'smart_3_raw', u'smart_4_raw', u'smart_5_raw', u'smart_7_raw',\n",
       "       u'smart_8_raw', u'smart_9_raw', u'smart_10_raw', u'smart_11_raw',\n",
       "       u'smart_12_raw', u'smart_22_raw', u'smart_183_raw', u'smart_184_raw',\n",
       "       u'smart_187_raw', u'smart_188_raw', u'smart_189_raw', u'smart_190_raw',\n",
       "       u'smart_191_raw', u'smart_192_raw', u'smart_193_raw', u'smart_194_raw',\n",
       "       u'smart_195_raw', u'smart_196_raw', u'smart_197_raw', u'smart_198_raw',\n",
       "       u'smart_199_raw', u'smart_200_raw', u'smart_220_raw', u'smart_222_raw',\n",
       "       u'smart_223_raw', u'smart_224_raw', u'smart_225_raw', u'smart_226_raw',\n",
       "       u'smart_240_raw', u'smart_241_raw', u'smart_242_raw', u'smart_250_raw',\n",
       "       u'smart_251_raw', u'smart_252_raw', u'smart_254_raw'],\n",
       "      dtype='object')"
      ]
     },
     "execution_count": 52,
     "metadata": {},
     "output_type": "execute_result"
    }
   ],
   "source": [
    "hdd_test.columns"
   ]
  },
  {
   "cell_type": "code",
   "execution_count": 53,
   "metadata": {
    "collapsed": false
   },
   "outputs": [
    {
     "data": {
      "text/plain": [
       "(4055844, 44)"
      ]
     },
     "execution_count": 53,
     "metadata": {},
     "output_type": "execute_result"
    }
   ],
   "source": [
    "hdd_test.shape"
   ]
  },
  {
   "cell_type": "code",
   "execution_count": 54,
   "metadata": {
    "collapsed": true
   },
   "outputs": [],
   "source": [
    "# save the clean, new files\n",
    "hdd_train.to_csv('../input/clean_train_data.csv', index=False)\n",
    "hdd_test.to_csv('../input/clean_test_data.csv', index=False)"
   ]
  },
  {
   "cell_type": "markdown",
   "metadata": {},
   "source": [
    "For some testing, and also later in the code, the strings for model and serial number will need to be addressed."
   ]
  },
  {
   "cell_type": "code",
   "execution_count": 55,
   "metadata": {
    "collapsed": false
   },
   "outputs": [],
   "source": [
    "# remove strings from dataset\n",
    "#columns_to_drop =['serial_number','model']\n",
    "#hdd_train.drop(columns_to_drop, inplace=True, axis=1)\n",
    "#hdd_train.fillna(-1, inplace=True)\n",
    "#hdd_train = hdd_train.astype(np.float).fillna(-1.0)\n",
    "\n",
    "#hdd_train.to_csv('../input/clean_train_data_nostr.csv', index=False)"
   ]
  },
  {
   "cell_type": "code",
   "execution_count": 56,
   "metadata": {
    "collapsed": false
   },
   "outputs": [
    {
     "data": {
      "text/html": [
       "<div>\n",
       "<table border=\"1\" class=\"dataframe\">\n",
       "  <thead>\n",
       "    <tr style=\"text-align: right;\">\n",
       "      <th></th>\n",
       "      <th>serial_number</th>\n",
       "      <th>model</th>\n",
       "      <th>failure</th>\n",
       "      <th>smart_1_raw</th>\n",
       "      <th>smart_2_raw</th>\n",
       "      <th>smart_3_raw</th>\n",
       "      <th>smart_4_raw</th>\n",
       "      <th>smart_5_raw</th>\n",
       "      <th>smart_7_raw</th>\n",
       "      <th>smart_8_raw</th>\n",
       "      <th>...</th>\n",
       "      <th>smart_224_raw</th>\n",
       "      <th>smart_225_raw</th>\n",
       "      <th>smart_226_raw</th>\n",
       "      <th>smart_240_raw</th>\n",
       "      <th>smart_241_raw</th>\n",
       "      <th>smart_242_raw</th>\n",
       "      <th>smart_250_raw</th>\n",
       "      <th>smart_251_raw</th>\n",
       "      <th>smart_252_raw</th>\n",
       "      <th>smart_254_raw</th>\n",
       "    </tr>\n",
       "  </thead>\n",
       "  <tbody>\n",
       "    <tr>\n",
       "      <th>0</th>\n",
       "      <td>MJ0351YNG9Z0XA</td>\n",
       "      <td>Hitachi HDS5C3030ALA630</td>\n",
       "      <td>0</td>\n",
       "      <td>0</td>\n",
       "      <td>108</td>\n",
       "      <td>540</td>\n",
       "      <td>14</td>\n",
       "      <td>0</td>\n",
       "      <td>0.000000e+00</td>\n",
       "      <td>37</td>\n",
       "      <td>...</td>\n",
       "      <td>NaN</td>\n",
       "      <td>NaN</td>\n",
       "      <td>NaN</td>\n",
       "      <td>0.000000e+00</td>\n",
       "      <td>0.000000e+00</td>\n",
       "      <td>0.000000e+00</td>\n",
       "      <td>NaN</td>\n",
       "      <td>NaN</td>\n",
       "      <td>NaN</td>\n",
       "      <td>NaN</td>\n",
       "    </tr>\n",
       "    <tr>\n",
       "      <th>1</th>\n",
       "      <td>Z305B2QN</td>\n",
       "      <td>ST4000DM000</td>\n",
       "      <td>0</td>\n",
       "      <td>54551400</td>\n",
       "      <td>NaN</td>\n",
       "      <td>0</td>\n",
       "      <td>4</td>\n",
       "      <td>0</td>\n",
       "      <td>1.279800e-317</td>\n",
       "      <td>NaN</td>\n",
       "      <td>...</td>\n",
       "      <td>NaN</td>\n",
       "      <td>NaN</td>\n",
       "      <td>NaN</td>\n",
       "      <td>1.319155e-321</td>\n",
       "      <td>3.467963e-315</td>\n",
       "      <td>1.316882e-315</td>\n",
       "      <td>NaN</td>\n",
       "      <td>NaN</td>\n",
       "      <td>NaN</td>\n",
       "      <td>NaN</td>\n",
       "    </tr>\n",
       "    <tr>\n",
       "      <th>2</th>\n",
       "      <td>MJ0351YNG9Z7LA</td>\n",
       "      <td>Hitachi HDS5C3030ALA630</td>\n",
       "      <td>0</td>\n",
       "      <td>0</td>\n",
       "      <td>104</td>\n",
       "      <td>566</td>\n",
       "      <td>19</td>\n",
       "      <td>0</td>\n",
       "      <td>0.000000e+00</td>\n",
       "      <td>37</td>\n",
       "      <td>...</td>\n",
       "      <td>NaN</td>\n",
       "      <td>NaN</td>\n",
       "      <td>NaN</td>\n",
       "      <td>0.000000e+00</td>\n",
       "      <td>0.000000e+00</td>\n",
       "      <td>0.000000e+00</td>\n",
       "      <td>NaN</td>\n",
       "      <td>NaN</td>\n",
       "      <td>NaN</td>\n",
       "      <td>NaN</td>\n",
       "    </tr>\n",
       "    <tr>\n",
       "      <th>3</th>\n",
       "      <td>MJ0351YNGABYAA</td>\n",
       "      <td>Hitachi HDS5C3030ALA630</td>\n",
       "      <td>0</td>\n",
       "      <td>0</td>\n",
       "      <td>104</td>\n",
       "      <td>507</td>\n",
       "      <td>15</td>\n",
       "      <td>0</td>\n",
       "      <td>0.000000e+00</td>\n",
       "      <td>37</td>\n",
       "      <td>...</td>\n",
       "      <td>NaN</td>\n",
       "      <td>NaN</td>\n",
       "      <td>NaN</td>\n",
       "      <td>0.000000e+00</td>\n",
       "      <td>0.000000e+00</td>\n",
       "      <td>0.000000e+00</td>\n",
       "      <td>NaN</td>\n",
       "      <td>NaN</td>\n",
       "      <td>NaN</td>\n",
       "      <td>NaN</td>\n",
       "    </tr>\n",
       "    <tr>\n",
       "      <th>4</th>\n",
       "      <td>WD-WMC4N2899475</td>\n",
       "      <td>WDC WD30EFRX</td>\n",
       "      <td>0</td>\n",
       "      <td>0</td>\n",
       "      <td>NaN</td>\n",
       "      <td>6250</td>\n",
       "      <td>10</td>\n",
       "      <td>0</td>\n",
       "      <td>0.000000e+00</td>\n",
       "      <td>NaN</td>\n",
       "      <td>...</td>\n",
       "      <td>NaN</td>\n",
       "      <td>NaN</td>\n",
       "      <td>NaN</td>\n",
       "      <td>0.000000e+00</td>\n",
       "      <td>0.000000e+00</td>\n",
       "      <td>0.000000e+00</td>\n",
       "      <td>NaN</td>\n",
       "      <td>NaN</td>\n",
       "      <td>NaN</td>\n",
       "      <td>NaN</td>\n",
       "    </tr>\n",
       "  </tbody>\n",
       "</table>\n",
       "<p>5 rows × 44 columns</p>\n",
       "</div>"
      ],
      "text/plain": [
       "     serial_number                    model  failure  smart_1_raw  \\\n",
       "0   MJ0351YNG9Z0XA  Hitachi HDS5C3030ALA630        0            0   \n",
       "1         Z305B2QN              ST4000DM000        0     54551400   \n",
       "2   MJ0351YNG9Z7LA  Hitachi HDS5C3030ALA630        0            0   \n",
       "3   MJ0351YNGABYAA  Hitachi HDS5C3030ALA630        0            0   \n",
       "4  WD-WMC4N2899475             WDC WD30EFRX        0            0   \n",
       "\n",
       "   smart_2_raw  smart_3_raw  smart_4_raw  smart_5_raw    smart_7_raw  \\\n",
       "0          108          540           14            0   0.000000e+00   \n",
       "1          NaN            0            4            0  1.279800e-317   \n",
       "2          104          566           19            0   0.000000e+00   \n",
       "3          104          507           15            0   0.000000e+00   \n",
       "4          NaN         6250           10            0   0.000000e+00   \n",
       "\n",
       "   smart_8_raw      ...        smart_224_raw  smart_225_raw  smart_226_raw  \\\n",
       "0           37      ...                  NaN            NaN            NaN   \n",
       "1          NaN      ...                  NaN            NaN            NaN   \n",
       "2           37      ...                  NaN            NaN            NaN   \n",
       "3           37      ...                  NaN            NaN            NaN   \n",
       "4          NaN      ...                  NaN            NaN            NaN   \n",
       "\n",
       "   smart_240_raw  smart_241_raw  smart_242_raw  smart_250_raw  smart_251_raw  \\\n",
       "0   0.000000e+00   0.000000e+00   0.000000e+00            NaN            NaN   \n",
       "1  1.319155e-321  3.467963e-315  1.316882e-315            NaN            NaN   \n",
       "2   0.000000e+00   0.000000e+00   0.000000e+00            NaN            NaN   \n",
       "3   0.000000e+00   0.000000e+00   0.000000e+00            NaN            NaN   \n",
       "4   0.000000e+00   0.000000e+00   0.000000e+00            NaN            NaN   \n",
       "\n",
       "   smart_252_raw  smart_254_raw  \n",
       "0            NaN            NaN  \n",
       "1            NaN            NaN  \n",
       "2            NaN            NaN  \n",
       "3            NaN            NaN  \n",
       "4            NaN            NaN  \n",
       "\n",
       "[5 rows x 44 columns]"
      ]
     },
     "execution_count": 56,
     "metadata": {},
     "output_type": "execute_result"
    }
   ],
   "source": [
    "hdd_train.head()"
   ]
  },
  {
   "cell_type": "markdown",
   "metadata": {
    "collapsed": true
   },
   "source": [
    "## New\n",
    "Using the same datafile, I want to create a file of only the failed hard drives using only the following SMART parameters:\n",
    "\n",
    "SMART ID 5 (0x05): Relocated Sectors Count\n",
    "SMART ID 187 (0xBB): Reported Uncorrectable Errors\n",
    "SMART ID 188 (0xBC): Command Timeout\n",
    "SMART ID 197 (0xC5): Current Pending Sector Count\n",
    "SMART ID 198 (0xC6): Uncorrectable Sector Count"
   ]
  },
  {
   "cell_type": "code",
   "execution_count": 57,
   "metadata": {
    "collapsed": false
   },
   "outputs": [
    {
     "data": {
      "text/plain": [
       "(1681473, 44)"
      ]
     },
     "execution_count": 57,
     "metadata": {},
     "output_type": "execute_result"
    }
   ],
   "source": [
    "columns_to_use = ['serial_number', 'failure', 'smart_5_raw', 'smart_187_raw', 'smart_188_raw', 'smart_197_raw', 'smart_198_raw'\n",
    "                 ]\n",
    "# select specific model, since vendors differ on how SMART values are used\n",
    "hdd = hdd_train.query('model == \"ST4000DM000\"')\n",
    "hdd.shape"
   ]
  },
  {
   "cell_type": "code",
   "execution_count": 58,
   "metadata": {
    "collapsed": false
   },
   "outputs": [
    {
     "data": {
      "text/html": [
       "<div>\n",
       "<table border=\"1\" class=\"dataframe\">\n",
       "  <thead>\n",
       "    <tr style=\"text-align: right;\">\n",
       "      <th></th>\n",
       "      <th>serial_number</th>\n",
       "      <th>model</th>\n",
       "      <th>failure</th>\n",
       "      <th>smart_1_raw</th>\n",
       "      <th>smart_2_raw</th>\n",
       "      <th>smart_3_raw</th>\n",
       "      <th>smart_4_raw</th>\n",
       "      <th>smart_5_raw</th>\n",
       "      <th>smart_7_raw</th>\n",
       "      <th>smart_8_raw</th>\n",
       "      <th>...</th>\n",
       "      <th>smart_224_raw</th>\n",
       "      <th>smart_225_raw</th>\n",
       "      <th>smart_226_raw</th>\n",
       "      <th>smart_240_raw</th>\n",
       "      <th>smart_241_raw</th>\n",
       "      <th>smart_242_raw</th>\n",
       "      <th>smart_250_raw</th>\n",
       "      <th>smart_251_raw</th>\n",
       "      <th>smart_252_raw</th>\n",
       "      <th>smart_254_raw</th>\n",
       "    </tr>\n",
       "  </thead>\n",
       "  <tbody>\n",
       "    <tr>\n",
       "      <th>1</th>\n",
       "      <td>Z305B2QN</td>\n",
       "      <td>ST4000DM000</td>\n",
       "      <td>0</td>\n",
       "      <td>54551400</td>\n",
       "      <td>NaN</td>\n",
       "      <td>0</td>\n",
       "      <td>4</td>\n",
       "      <td>0</td>\n",
       "      <td>1.279800e-317</td>\n",
       "      <td>NaN</td>\n",
       "      <td>...</td>\n",
       "      <td>NaN</td>\n",
       "      <td>NaN</td>\n",
       "      <td>NaN</td>\n",
       "      <td>1.319155e-321</td>\n",
       "      <td>3.467963e-315</td>\n",
       "      <td>1.316882e-315</td>\n",
       "      <td>NaN</td>\n",
       "      <td>NaN</td>\n",
       "      <td>NaN</td>\n",
       "      <td>NaN</td>\n",
       "    </tr>\n",
       "    <tr>\n",
       "      <th>7</th>\n",
       "      <td>S300Z6K9</td>\n",
       "      <td>ST4000DM000</td>\n",
       "      <td>0</td>\n",
       "      <td>13985080</td>\n",
       "      <td>NaN</td>\n",
       "      <td>0</td>\n",
       "      <td>3</td>\n",
       "      <td>0</td>\n",
       "      <td>1.017278e-315</td>\n",
       "      <td>NaN</td>\n",
       "      <td>...</td>\n",
       "      <td>NaN</td>\n",
       "      <td>NaN</td>\n",
       "      <td>NaN</td>\n",
       "      <td>2.656097e-320</td>\n",
       "      <td>1.123662e-313</td>\n",
       "      <td>1.761059e-314</td>\n",
       "      <td>NaN</td>\n",
       "      <td>NaN</td>\n",
       "      <td>NaN</td>\n",
       "      <td>NaN</td>\n",
       "    </tr>\n",
       "    <tr>\n",
       "      <th>8</th>\n",
       "      <td>S300Z6K8</td>\n",
       "      <td>ST4000DM000</td>\n",
       "      <td>0</td>\n",
       "      <td>109242152</td>\n",
       "      <td>NaN</td>\n",
       "      <td>0</td>\n",
       "      <td>3</td>\n",
       "      <td>0</td>\n",
       "      <td>7.266557e-316</td>\n",
       "      <td>NaN</td>\n",
       "      <td>...</td>\n",
       "      <td>NaN</td>\n",
       "      <td>NaN</td>\n",
       "      <td>NaN</td>\n",
       "      <td>1.830019e-320</td>\n",
       "      <td>9.029058e-314</td>\n",
       "      <td>2.551732e-314</td>\n",
       "      <td>NaN</td>\n",
       "      <td>NaN</td>\n",
       "      <td>NaN</td>\n",
       "      <td>NaN</td>\n",
       "    </tr>\n",
       "    <tr>\n",
       "      <th>9</th>\n",
       "      <td>Z302PGH8</td>\n",
       "      <td>ST4000DM000</td>\n",
       "      <td>0</td>\n",
       "      <td>46112000</td>\n",
       "      <td>NaN</td>\n",
       "      <td>0</td>\n",
       "      <td>16</td>\n",
       "      <td>0</td>\n",
       "      <td>1.488203e-315</td>\n",
       "      <td>NaN</td>\n",
       "      <td>...</td>\n",
       "      <td>NaN</td>\n",
       "      <td>NaN</td>\n",
       "      <td>NaN</td>\n",
       "      <td>2.533569e-320</td>\n",
       "      <td>5.856105e-314</td>\n",
       "      <td>2.356922e-313</td>\n",
       "      <td>NaN</td>\n",
       "      <td>NaN</td>\n",
       "      <td>NaN</td>\n",
       "      <td>NaN</td>\n",
       "    </tr>\n",
       "    <tr>\n",
       "      <th>10</th>\n",
       "      <td>Z3023VGH</td>\n",
       "      <td>ST4000DM000</td>\n",
       "      <td>0</td>\n",
       "      <td>117245752</td>\n",
       "      <td>NaN</td>\n",
       "      <td>0</td>\n",
       "      <td>7</td>\n",
       "      <td>0</td>\n",
       "      <td>2.371728e-314</td>\n",
       "      <td>NaN</td>\n",
       "      <td>...</td>\n",
       "      <td>NaN</td>\n",
       "      <td>NaN</td>\n",
       "      <td>NaN</td>\n",
       "      <td>5.188677e-320</td>\n",
       "      <td>8.240600e-314</td>\n",
       "      <td>6.064623e-313</td>\n",
       "      <td>NaN</td>\n",
       "      <td>NaN</td>\n",
       "      <td>NaN</td>\n",
       "      <td>NaN</td>\n",
       "    </tr>\n",
       "  </tbody>\n",
       "</table>\n",
       "<p>5 rows × 44 columns</p>\n",
       "</div>"
      ],
      "text/plain": [
       "   serial_number        model  failure  smart_1_raw  smart_2_raw  smart_3_raw  \\\n",
       "1       Z305B2QN  ST4000DM000        0     54551400          NaN            0   \n",
       "7       S300Z6K9  ST4000DM000        0     13985080          NaN            0   \n",
       "8       S300Z6K8  ST4000DM000        0    109242152          NaN            0   \n",
       "9       Z302PGH8  ST4000DM000        0     46112000          NaN            0   \n",
       "10      Z3023VGH  ST4000DM000        0    117245752          NaN            0   \n",
       "\n",
       "    smart_4_raw  smart_5_raw    smart_7_raw  smart_8_raw      ...        \\\n",
       "1             4            0  1.279800e-317          NaN      ...         \n",
       "7             3            0  1.017278e-315          NaN      ...         \n",
       "8             3            0  7.266557e-316          NaN      ...         \n",
       "9            16            0  1.488203e-315          NaN      ...         \n",
       "10            7            0  2.371728e-314          NaN      ...         \n",
       "\n",
       "    smart_224_raw  smart_225_raw  smart_226_raw  smart_240_raw  smart_241_raw  \\\n",
       "1             NaN            NaN            NaN  1.319155e-321  3.467963e-315   \n",
       "7             NaN            NaN            NaN  2.656097e-320  1.123662e-313   \n",
       "8             NaN            NaN            NaN  1.830019e-320  9.029058e-314   \n",
       "9             NaN            NaN            NaN  2.533569e-320  5.856105e-314   \n",
       "10            NaN            NaN            NaN  5.188677e-320  8.240600e-314   \n",
       "\n",
       "    smart_242_raw  smart_250_raw  smart_251_raw  smart_252_raw  smart_254_raw  \n",
       "1   1.316882e-315            NaN            NaN            NaN            NaN  \n",
       "7   1.761059e-314            NaN            NaN            NaN            NaN  \n",
       "8   2.551732e-314            NaN            NaN            NaN            NaN  \n",
       "9   2.356922e-313            NaN            NaN            NaN            NaN  \n",
       "10  6.064623e-313            NaN            NaN            NaN            NaN  \n",
       "\n",
       "[5 rows x 44 columns]"
      ]
     },
     "execution_count": 58,
     "metadata": {},
     "output_type": "execute_result"
    }
   ],
   "source": [
    "hdd.head()"
   ]
  },
  {
   "cell_type": "code",
   "execution_count": 59,
   "metadata": {
    "collapsed": false
   },
   "outputs": [
    {
     "data": {
      "text/html": [
       "<div>\n",
       "<table border=\"1\" class=\"dataframe\">\n",
       "  <thead>\n",
       "    <tr style=\"text-align: right;\">\n",
       "      <th></th>\n",
       "      <th>serial_number</th>\n",
       "      <th>failure</th>\n",
       "      <th>smart_5_raw</th>\n",
       "      <th>smart_187_raw</th>\n",
       "      <th>smart_188_raw</th>\n",
       "      <th>smart_197_raw</th>\n",
       "      <th>smart_198_raw</th>\n",
       "    </tr>\n",
       "  </thead>\n",
       "  <tbody>\n",
       "    <tr>\n",
       "      <th>1</th>\n",
       "      <td>30154</td>\n",
       "      <td>0</td>\n",
       "      <td>0</td>\n",
       "      <td>0</td>\n",
       "      <td>0</td>\n",
       "      <td>0</td>\n",
       "      <td>0</td>\n",
       "    </tr>\n",
       "    <tr>\n",
       "      <th>7</th>\n",
       "      <td>2976</td>\n",
       "      <td>0</td>\n",
       "      <td>0</td>\n",
       "      <td>0</td>\n",
       "      <td>0</td>\n",
       "      <td>0</td>\n",
       "      <td>0</td>\n",
       "    </tr>\n",
       "    <tr>\n",
       "      <th>8</th>\n",
       "      <td>2975</td>\n",
       "      <td>0</td>\n",
       "      <td>0</td>\n",
       "      <td>0</td>\n",
       "      <td>0</td>\n",
       "      <td>0</td>\n",
       "      <td>0</td>\n",
       "    </tr>\n",
       "    <tr>\n",
       "      <th>9</th>\n",
       "      <td>21345</td>\n",
       "      <td>0</td>\n",
       "      <td>0</td>\n",
       "      <td>0</td>\n",
       "      <td>0</td>\n",
       "      <td>0</td>\n",
       "      <td>0</td>\n",
       "    </tr>\n",
       "    <tr>\n",
       "      <th>10</th>\n",
       "      <td>16688</td>\n",
       "      <td>0</td>\n",
       "      <td>0</td>\n",
       "      <td>0</td>\n",
       "      <td>0</td>\n",
       "      <td>0</td>\n",
       "      <td>0</td>\n",
       "    </tr>\n",
       "  </tbody>\n",
       "</table>\n",
       "</div>"
      ],
      "text/plain": [
       "    serial_number  failure  smart_5_raw  smart_187_raw  smart_188_raw  \\\n",
       "1           30154        0            0              0              0   \n",
       "7            2976        0            0              0              0   \n",
       "8            2975        0            0              0              0   \n",
       "9           21345        0            0              0              0   \n",
       "10          16688        0            0              0              0   \n",
       "\n",
       "    smart_197_raw  smart_198_raw  \n",
       "1               0              0  \n",
       "7               0              0  \n",
       "8               0              0  \n",
       "9               0              0  \n",
       "10              0              0  "
      ]
     },
     "execution_count": 59,
     "metadata": {},
     "output_type": "execute_result"
    }
   ],
   "source": [
    "hdd = hdd[columns_to_use]\n",
    "\n",
    "# labelEnconde the serial_number\n",
    "lbl = LabelEncoder()\n",
    "lbl.fit(list(hdd['serial_number'].values))\n",
    "hdd['serial_number'] = lbl.transform(list(hdd['serial_number'].values))\n",
    "hdd.to_csv('../input/ST4000DM000_clean_SMART_harddrive.csv', index=False)\n",
    "hdd.head()"
   ]
  },
  {
   "cell_type": "code",
   "execution_count": 60,
   "metadata": {
    "collapsed": false
   },
   "outputs": [
    {
     "data": {
      "text/plain": [
       "(139, 7)"
      ]
     },
     "execution_count": 60,
     "metadata": {},
     "output_type": "execute_result"
    }
   ],
   "source": [
    "hdd_fails_df = hdd[hdd.failure != 0]\n",
    "hdd_fails_df.shape"
   ]
  },
  {
   "cell_type": "code",
   "execution_count": 61,
   "metadata": {
    "collapsed": false
   },
   "outputs": [
    {
     "data": {
      "text/html": [
       "<div>\n",
       "<table border=\"1\" class=\"dataframe\">\n",
       "  <thead>\n",
       "    <tr style=\"text-align: right;\">\n",
       "      <th></th>\n",
       "      <th>serial_number</th>\n",
       "      <th>failure</th>\n",
       "      <th>smart_5_raw</th>\n",
       "      <th>smart_187_raw</th>\n",
       "      <th>smart_188_raw</th>\n",
       "      <th>smart_197_raw</th>\n",
       "      <th>smart_198_raw</th>\n",
       "    </tr>\n",
       "  </thead>\n",
       "  <tbody>\n",
       "    <tr>\n",
       "      <th>31847</th>\n",
       "      <td>10311</td>\n",
       "      <td>1</td>\n",
       "      <td>0</td>\n",
       "      <td>0</td>\n",
       "      <td>4.940656e-324</td>\n",
       "      <td>40</td>\n",
       "      <td>40</td>\n",
       "    </tr>\n",
       "    <tr>\n",
       "      <th>37041</th>\n",
       "      <td>15562</td>\n",
       "      <td>1</td>\n",
       "      <td>0</td>\n",
       "      <td>0</td>\n",
       "      <td>4.940656e-324</td>\n",
       "      <td>56</td>\n",
       "      <td>56</td>\n",
       "    </tr>\n",
       "    <tr>\n",
       "      <th>46720</th>\n",
       "      <td>6557</td>\n",
       "      <td>1</td>\n",
       "      <td>0</td>\n",
       "      <td>0</td>\n",
       "      <td>2.470328e-323</td>\n",
       "      <td>0</td>\n",
       "      <td>0</td>\n",
       "    </tr>\n",
       "    <tr>\n",
       "      <th>89392</th>\n",
       "      <td>10311</td>\n",
       "      <td>1</td>\n",
       "      <td>0</td>\n",
       "      <td>0</td>\n",
       "      <td>4.940656e-324</td>\n",
       "      <td>40</td>\n",
       "      <td>40</td>\n",
       "    </tr>\n",
       "    <tr>\n",
       "      <th>94586</th>\n",
       "      <td>15562</td>\n",
       "      <td>1</td>\n",
       "      <td>0</td>\n",
       "      <td>0</td>\n",
       "      <td>4.940656e-324</td>\n",
       "      <td>56</td>\n",
       "      <td>56</td>\n",
       "    </tr>\n",
       "  </tbody>\n",
       "</table>\n",
       "</div>"
      ],
      "text/plain": [
       "       serial_number  failure  smart_5_raw  smart_187_raw  smart_188_raw  \\\n",
       "31847          10311        1            0              0  4.940656e-324   \n",
       "37041          15562        1            0              0  4.940656e-324   \n",
       "46720           6557        1            0              0  2.470328e-323   \n",
       "89392          10311        1            0              0  4.940656e-324   \n",
       "94586          15562        1            0              0  4.940656e-324   \n",
       "\n",
       "       smart_197_raw  smart_198_raw  \n",
       "31847             40             40  \n",
       "37041             56             56  \n",
       "46720              0              0  \n",
       "89392             40             40  \n",
       "94586             56             56  "
      ]
     },
     "execution_count": 61,
     "metadata": {},
     "output_type": "execute_result"
    }
   ],
   "source": [
    "hdd_fails_df.head()"
   ]
  },
  {
   "cell_type": "code",
   "execution_count": 62,
   "metadata": {
    "collapsed": false
   },
   "outputs": [],
   "source": [
    "hdd_fails_df = hdd_fails_df.drop_duplicates(['serial_number'], keep=False)"
   ]
  },
  {
   "cell_type": "code",
   "execution_count": 63,
   "metadata": {
    "collapsed": false
   },
   "outputs": [],
   "source": [
    "hdd_fails_df.to_csv('../input/failed_hdd_from_harddrive.csv', index=False)"
   ]
  }
 ],
 "metadata": {
  "kernelspec": {
   "display_name": "Python 2",
   "language": "python",
   "name": "python2"
  },
  "language_info": {
   "codemirror_mode": {
    "name": "ipython",
    "version": 2
   },
   "file_extension": ".py",
   "mimetype": "text/x-python",
   "name": "python",
   "nbconvert_exporter": "python",
   "pygments_lexer": "ipython2",
   "version": "2.7.10"
  }
 },
 "nbformat": 4,
 "nbformat_minor": 2
}
