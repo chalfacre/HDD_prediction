{
 "cells": [
  {
   "cell_type": "markdown",
   "metadata": {},
   "source": [
    "This notebook examines the hard drive data collected from BackBlaze. https://www.backblaze.com/b2/hard-drive-test-data.html  BackBlaze is a cloud storage company that has made their hard drive data public.  The data was presumably obtained by using open source software like smartmontools (https://sourceforge.net/projects/smartmontools/). \n",
    "The data is collected daily for each hard drive and their respective S.M.A.R.T data counters.\n",
    "First part of this notebook will examine the raw data received, then the data will be cleaned before running through\n"
   ]
  },
  {
   "cell_type": "code",
   "execution_count": 30,
   "metadata": {
    "collapsed": false
   },
   "outputs": [],
   "source": [
    "import numpy as np\n",
    "import pandas as pd\n",
    "import seaborn as sns\n",
    "import matplotlib.pyplot as plt\n",
    "%matplotlib inline\n",
    "from sklearn import ensemble, metrics\n",
    "from IPython.display import Image\n",
    "from IPython.core.display import HTML "
   ]
  },
  {
   "cell_type": "code",
   "execution_count": 31,
   "metadata": {
    "collapsed": false,
    "scrolled": false
   },
   "outputs": [
    {
     "data": {
      "text/html": [
       "<div>\n",
       "<table border=\"1\" class=\"dataframe\">\n",
       "  <thead>\n",
       "    <tr style=\"text-align: right;\">\n",
       "      <th></th>\n",
       "      <th>date</th>\n",
       "      <th>serial_number</th>\n",
       "      <th>model</th>\n",
       "      <th>capacity_bytes</th>\n",
       "      <th>failure</th>\n",
       "      <th>smart_1_normalized</th>\n",
       "      <th>smart_1_raw</th>\n",
       "      <th>smart_2_normalized</th>\n",
       "      <th>smart_2_raw</th>\n",
       "      <th>smart_3_normalized</th>\n",
       "      <th>...</th>\n",
       "      <th>smart_250_normalized</th>\n",
       "      <th>smart_250_raw</th>\n",
       "      <th>smart_251_normalized</th>\n",
       "      <th>smart_251_raw</th>\n",
       "      <th>smart_252_normalized</th>\n",
       "      <th>smart_252_raw</th>\n",
       "      <th>smart_254_normalized</th>\n",
       "      <th>smart_254_raw</th>\n",
       "      <th>smart_255_normalized</th>\n",
       "      <th>smart_255_raw</th>\n",
       "    </tr>\n",
       "  </thead>\n",
       "  <tbody>\n",
       "    <tr>\n",
       "      <th>0</th>\n",
       "      <td>2016-01-01</td>\n",
       "      <td>MJ0351YNG9Z0XA</td>\n",
       "      <td>Hitachi HDS5C3030ALA630</td>\n",
       "      <td>1.482490e-311</td>\n",
       "      <td>0</td>\n",
       "      <td>100</td>\n",
       "      <td>0</td>\n",
       "      <td>135</td>\n",
       "      <td>108</td>\n",
       "      <td>143</td>\n",
       "      <td>...</td>\n",
       "      <td>NaN</td>\n",
       "      <td>NaN</td>\n",
       "      <td>NaN</td>\n",
       "      <td>NaN</td>\n",
       "      <td>NaN</td>\n",
       "      <td>NaN</td>\n",
       "      <td>NaN</td>\n",
       "      <td>NaN</td>\n",
       "      <td>NaN</td>\n",
       "      <td>NaN</td>\n",
       "    </tr>\n",
       "    <tr>\n",
       "      <th>1</th>\n",
       "      <td>2016-01-01</td>\n",
       "      <td>Z305B2QN</td>\n",
       "      <td>ST4000DM000</td>\n",
       "      <td>1.976651e-311</td>\n",
       "      <td>0</td>\n",
       "      <td>113</td>\n",
       "      <td>54551400</td>\n",
       "      <td>NaN</td>\n",
       "      <td>NaN</td>\n",
       "      <td>96</td>\n",
       "      <td>...</td>\n",
       "      <td>NaN</td>\n",
       "      <td>NaN</td>\n",
       "      <td>NaN</td>\n",
       "      <td>NaN</td>\n",
       "      <td>NaN</td>\n",
       "      <td>NaN</td>\n",
       "      <td>NaN</td>\n",
       "      <td>NaN</td>\n",
       "      <td>NaN</td>\n",
       "      <td>NaN</td>\n",
       "    </tr>\n",
       "    <tr>\n",
       "      <th>2</th>\n",
       "      <td>2016-01-01</td>\n",
       "      <td>MJ0351YNG9Z7LA</td>\n",
       "      <td>Hitachi HDS5C3030ALA630</td>\n",
       "      <td>1.482490e-311</td>\n",
       "      <td>0</td>\n",
       "      <td>100</td>\n",
       "      <td>0</td>\n",
       "      <td>136</td>\n",
       "      <td>104</td>\n",
       "      <td>124</td>\n",
       "      <td>...</td>\n",
       "      <td>NaN</td>\n",
       "      <td>NaN</td>\n",
       "      <td>NaN</td>\n",
       "      <td>NaN</td>\n",
       "      <td>NaN</td>\n",
       "      <td>NaN</td>\n",
       "      <td>NaN</td>\n",
       "      <td>NaN</td>\n",
       "      <td>NaN</td>\n",
       "      <td>NaN</td>\n",
       "    </tr>\n",
       "    <tr>\n",
       "      <th>3</th>\n",
       "      <td>2016-01-01</td>\n",
       "      <td>MJ0351YNGABYAA</td>\n",
       "      <td>Hitachi HDS5C3030ALA630</td>\n",
       "      <td>1.482490e-311</td>\n",
       "      <td>0</td>\n",
       "      <td>100</td>\n",
       "      <td>0</td>\n",
       "      <td>136</td>\n",
       "      <td>104</td>\n",
       "      <td>137</td>\n",
       "      <td>...</td>\n",
       "      <td>NaN</td>\n",
       "      <td>NaN</td>\n",
       "      <td>NaN</td>\n",
       "      <td>NaN</td>\n",
       "      <td>NaN</td>\n",
       "      <td>NaN</td>\n",
       "      <td>NaN</td>\n",
       "      <td>NaN</td>\n",
       "      <td>NaN</td>\n",
       "      <td>NaN</td>\n",
       "    </tr>\n",
       "    <tr>\n",
       "      <th>4</th>\n",
       "      <td>2016-01-01</td>\n",
       "      <td>WD-WMC4N2899475</td>\n",
       "      <td>WDC WD30EFRX</td>\n",
       "      <td>1.482490e-311</td>\n",
       "      <td>0</td>\n",
       "      <td>200</td>\n",
       "      <td>0</td>\n",
       "      <td>NaN</td>\n",
       "      <td>NaN</td>\n",
       "      <td>175</td>\n",
       "      <td>...</td>\n",
       "      <td>NaN</td>\n",
       "      <td>NaN</td>\n",
       "      <td>NaN</td>\n",
       "      <td>NaN</td>\n",
       "      <td>NaN</td>\n",
       "      <td>NaN</td>\n",
       "      <td>NaN</td>\n",
       "      <td>NaN</td>\n",
       "      <td>NaN</td>\n",
       "      <td>NaN</td>\n",
       "    </tr>\n",
       "  </tbody>\n",
       "</table>\n",
       "<p>5 rows × 95 columns</p>\n",
       "</div>"
      ],
      "text/plain": [
       "         date    serial_number                    model  capacity_bytes  \\\n",
       "0  2016-01-01   MJ0351YNG9Z0XA  Hitachi HDS5C3030ALA630   1.482490e-311   \n",
       "1  2016-01-01         Z305B2QN              ST4000DM000   1.976651e-311   \n",
       "2  2016-01-01   MJ0351YNG9Z7LA  Hitachi HDS5C3030ALA630   1.482490e-311   \n",
       "3  2016-01-01   MJ0351YNGABYAA  Hitachi HDS5C3030ALA630   1.482490e-311   \n",
       "4  2016-01-01  WD-WMC4N2899475             WDC WD30EFRX   1.482490e-311   \n",
       "\n",
       "   failure  smart_1_normalized  smart_1_raw  smart_2_normalized  smart_2_raw  \\\n",
       "0        0                 100            0                 135          108   \n",
       "1        0                 113     54551400                 NaN          NaN   \n",
       "2        0                 100            0                 136          104   \n",
       "3        0                 100            0                 136          104   \n",
       "4        0                 200            0                 NaN          NaN   \n",
       "\n",
       "   smart_3_normalized      ...        smart_250_normalized  smart_250_raw  \\\n",
       "0                 143      ...                         NaN            NaN   \n",
       "1                  96      ...                         NaN            NaN   \n",
       "2                 124      ...                         NaN            NaN   \n",
       "3                 137      ...                         NaN            NaN   \n",
       "4                 175      ...                         NaN            NaN   \n",
       "\n",
       "   smart_251_normalized  smart_251_raw  smart_252_normalized  smart_252_raw  \\\n",
       "0                   NaN            NaN                   NaN            NaN   \n",
       "1                   NaN            NaN                   NaN            NaN   \n",
       "2                   NaN            NaN                   NaN            NaN   \n",
       "3                   NaN            NaN                   NaN            NaN   \n",
       "4                   NaN            NaN                   NaN            NaN   \n",
       "\n",
       "   smart_254_normalized  smart_254_raw  smart_255_normalized  smart_255_raw  \n",
       "0                   NaN            NaN                   NaN            NaN  \n",
       "1                   NaN            NaN                   NaN            NaN  \n",
       "2                   NaN            NaN                   NaN            NaN  \n",
       "3                   NaN            NaN                   NaN            NaN  \n",
       "4                   NaN            NaN                   NaN            NaN  \n",
       "\n",
       "[5 rows x 95 columns]"
      ]
     },
     "execution_count": 31,
     "metadata": {},
     "output_type": "execute_result"
    }
   ],
   "source": [
    "# limit to first 1000 rows for now until doc is complete\n",
    "hdd = pd.read_csv('../input/harddrive.csv')#,nrows = 10000)\n",
    "hdd.head()"
   ]
  },
  {
   "cell_type": "code",
   "execution_count": 32,
   "metadata": {
    "collapsed": false
   },
   "outputs": [
    {
     "data": {
      "text/plain": [
       "(3179295, 95)"
      ]
     },
     "execution_count": 32,
     "metadata": {},
     "output_type": "execute_result"
    }
   ],
   "source": [
    "# number of rows and columns in dataset\n",
    "hdd.shape"
   ]
  },
  {
   "cell_type": "code",
   "execution_count": 33,
   "metadata": {
    "collapsed": false
   },
   "outputs": [
    {
     "data": {
      "text/plain": [
       "(65993,)"
      ]
     },
     "execution_count": 33,
     "metadata": {},
     "output_type": "execute_result"
    }
   ],
   "source": [
    "# number of hdd\n",
    "hdd['serial_number'].value_counts().shape\n"
   ]
  },
  {
   "cell_type": "code",
   "execution_count": 34,
   "metadata": {
    "collapsed": false
   },
   "outputs": [
    {
     "data": {
      "text/plain": [
       "(69,)"
      ]
     },
     "execution_count": 34,
     "metadata": {},
     "output_type": "execute_result"
    }
   ],
   "source": [
    "# number of different model types of harddrives\n",
    "hdd['model'].value_counts().shape"
   ]
  },
  {
   "cell_type": "code",
   "execution_count": 35,
   "metadata": {
    "collapsed": false
   },
   "outputs": [
    {
     "name": "stdout",
     "output_type": "stream",
     "text": [
      "model\n",
      "ST4000DM000                139\n",
      "ST320LT007                  15\n",
      "Hitachi HDS722020ALA330     13\n",
      "WDC WD800AAJS                6\n",
      "WDC WD30EFRX                 6\n",
      "Hitachi HDS5C3030ALA630      5\n",
      "Hitachi HDS5C4040ALE630      4\n",
      "WDC WD20EFRX                 3\n",
      "ST3160318AS                  2\n",
      "ST4000DX000                  2\n",
      "WDC WD10EADS                 2\n",
      "HGST HMS5C4040ALE640         2\n",
      "WDC WD1600AAJS               2\n",
      "WDC WD1600AAJB               2\n",
      "ST6000DX000                  2\n",
      "ST3160316AS                  1\n",
      "TOSHIBA MD04ABA500V          1\n",
      "WDC WD3200BEKT               1\n",
      "TOSHIBA DT01ACA300           1\n",
      "WDC WD3200BEKX               1\n",
      "ST9250315AS                  1\n",
      "HGST HMS5C4040BLE640         1\n",
      "WDC WD60EFRX                 1\n",
      "WDC WD800AAJB                1\n",
      "WDC WD800BB                  1\n",
      "ST3500320AS                  0\n",
      "ST31500341AS                 0\n",
      "ST31500541AS                 0\n",
      "WDC WD800LB                  0\n",
      "ST250LT007                   0\n",
      "Name: failure, dtype: int64\n"
     ]
    }
   ],
   "source": [
    "#failed drives (model and count)\n",
    "print(hdd.groupby('model')['failure'].sum().sort_values(ascending=False).iloc[:30])"
   ]
  },
  {
   "cell_type": "markdown",
   "metadata": {},
   "source": [
    "Wikipedia has a table explaining all the S.M.A.R.T attributes and the ones that are critical for predicting hard drive failure.  So, we want to eliminate the other S.M.A.R.T values because they will be noise.  The attributes we want to keep are:\n",
    "5 - Reallocated sectors count\n",
    "10 - Spin retry count\n",
    "184 - End-to-end error (IOEDC)\n",
    "187 - Reported Uncorrectable Errors\n",
    "188 - Command timeout\n",
    "196 - Reallocation Event Count\n",
    "197 - Current pending sector count\n",
    "198 - Uncorrectable sector count\n",
    "201 - Soft read error rate\n",
    "\n",
    "Link to wikipedia table:  https://en.wikipedia.org/wiki/S.M.A.R.T."
   ]
  },
  {
   "cell_type": "code",
   "execution_count": 36,
   "metadata": {
    "collapsed": false,
    "scrolled": true
   },
   "outputs": [
    {
     "data": {
      "text/html": [
       "<div>\n",
       "<table border=\"1\" class=\"dataframe\">\n",
       "  <thead>\n",
       "    <tr style=\"text-align: right;\">\n",
       "      <th></th>\n",
       "      <th>serial_number</th>\n",
       "      <th>model</th>\n",
       "      <th>failure</th>\n",
       "      <th>smart_1_normalized</th>\n",
       "      <th>smart_1_raw</th>\n",
       "      <th>smart_2_normalized</th>\n",
       "      <th>smart_2_raw</th>\n",
       "      <th>smart_3_normalized</th>\n",
       "      <th>smart_3_raw</th>\n",
       "      <th>smart_4_normalized</th>\n",
       "      <th>...</th>\n",
       "      <th>smart_242_normalized</th>\n",
       "      <th>smart_242_raw</th>\n",
       "      <th>smart_250_normalized</th>\n",
       "      <th>smart_250_raw</th>\n",
       "      <th>smart_251_normalized</th>\n",
       "      <th>smart_251_raw</th>\n",
       "      <th>smart_252_normalized</th>\n",
       "      <th>smart_252_raw</th>\n",
       "      <th>smart_254_normalized</th>\n",
       "      <th>smart_254_raw</th>\n",
       "    </tr>\n",
       "  </thead>\n",
       "  <tbody>\n",
       "    <tr>\n",
       "      <th>0</th>\n",
       "      <td>MJ0351YNG9Z0XA</td>\n",
       "      <td>Hitachi HDS5C3030ALA630</td>\n",
       "      <td>0</td>\n",
       "      <td>100</td>\n",
       "      <td>0</td>\n",
       "      <td>135</td>\n",
       "      <td>108</td>\n",
       "      <td>143</td>\n",
       "      <td>540</td>\n",
       "      <td>100</td>\n",
       "      <td>...</td>\n",
       "      <td>-1</td>\n",
       "      <td>0.000000e+00</td>\n",
       "      <td>-1</td>\n",
       "      <td>-1</td>\n",
       "      <td>-1</td>\n",
       "      <td>-1</td>\n",
       "      <td>-1</td>\n",
       "      <td>-1</td>\n",
       "      <td>-1</td>\n",
       "      <td>-1</td>\n",
       "    </tr>\n",
       "    <tr>\n",
       "      <th>1</th>\n",
       "      <td>Z305B2QN</td>\n",
       "      <td>ST4000DM000</td>\n",
       "      <td>0</td>\n",
       "      <td>113</td>\n",
       "      <td>54551400</td>\n",
       "      <td>-1</td>\n",
       "      <td>-1</td>\n",
       "      <td>96</td>\n",
       "      <td>0</td>\n",
       "      <td>100</td>\n",
       "      <td>...</td>\n",
       "      <td>100</td>\n",
       "      <td>1.316882e-315</td>\n",
       "      <td>-1</td>\n",
       "      <td>-1</td>\n",
       "      <td>-1</td>\n",
       "      <td>-1</td>\n",
       "      <td>-1</td>\n",
       "      <td>-1</td>\n",
       "      <td>-1</td>\n",
       "      <td>-1</td>\n",
       "    </tr>\n",
       "    <tr>\n",
       "      <th>2</th>\n",
       "      <td>MJ0351YNG9Z7LA</td>\n",
       "      <td>Hitachi HDS5C3030ALA630</td>\n",
       "      <td>0</td>\n",
       "      <td>100</td>\n",
       "      <td>0</td>\n",
       "      <td>136</td>\n",
       "      <td>104</td>\n",
       "      <td>124</td>\n",
       "      <td>566</td>\n",
       "      <td>100</td>\n",
       "      <td>...</td>\n",
       "      <td>-1</td>\n",
       "      <td>0.000000e+00</td>\n",
       "      <td>-1</td>\n",
       "      <td>-1</td>\n",
       "      <td>-1</td>\n",
       "      <td>-1</td>\n",
       "      <td>-1</td>\n",
       "      <td>-1</td>\n",
       "      <td>-1</td>\n",
       "      <td>-1</td>\n",
       "    </tr>\n",
       "    <tr>\n",
       "      <th>3</th>\n",
       "      <td>MJ0351YNGABYAA</td>\n",
       "      <td>Hitachi HDS5C3030ALA630</td>\n",
       "      <td>0</td>\n",
       "      <td>100</td>\n",
       "      <td>0</td>\n",
       "      <td>136</td>\n",
       "      <td>104</td>\n",
       "      <td>137</td>\n",
       "      <td>507</td>\n",
       "      <td>100</td>\n",
       "      <td>...</td>\n",
       "      <td>-1</td>\n",
       "      <td>0.000000e+00</td>\n",
       "      <td>-1</td>\n",
       "      <td>-1</td>\n",
       "      <td>-1</td>\n",
       "      <td>-1</td>\n",
       "      <td>-1</td>\n",
       "      <td>-1</td>\n",
       "      <td>-1</td>\n",
       "      <td>-1</td>\n",
       "    </tr>\n",
       "    <tr>\n",
       "      <th>4</th>\n",
       "      <td>WD-WMC4N2899475</td>\n",
       "      <td>WDC WD30EFRX</td>\n",
       "      <td>0</td>\n",
       "      <td>200</td>\n",
       "      <td>0</td>\n",
       "      <td>-1</td>\n",
       "      <td>-1</td>\n",
       "      <td>175</td>\n",
       "      <td>6250</td>\n",
       "      <td>100</td>\n",
       "      <td>...</td>\n",
       "      <td>-1</td>\n",
       "      <td>0.000000e+00</td>\n",
       "      <td>-1</td>\n",
       "      <td>-1</td>\n",
       "      <td>-1</td>\n",
       "      <td>-1</td>\n",
       "      <td>-1</td>\n",
       "      <td>-1</td>\n",
       "      <td>-1</td>\n",
       "      <td>-1</td>\n",
       "    </tr>\n",
       "  </tbody>\n",
       "</table>\n",
       "<p>5 rows × 89 columns</p>\n",
       "</div>"
      ],
      "text/plain": [
       "     serial_number                    model  failure  smart_1_normalized  \\\n",
       "0   MJ0351YNG9Z0XA  Hitachi HDS5C3030ALA630        0                 100   \n",
       "1         Z305B2QN              ST4000DM000        0                 113   \n",
       "2   MJ0351YNG9Z7LA  Hitachi HDS5C3030ALA630        0                 100   \n",
       "3   MJ0351YNGABYAA  Hitachi HDS5C3030ALA630        0                 100   \n",
       "4  WD-WMC4N2899475             WDC WD30EFRX        0                 200   \n",
       "\n",
       "   smart_1_raw  smart_2_normalized  smart_2_raw  smart_3_normalized  \\\n",
       "0            0                 135          108                 143   \n",
       "1     54551400                  -1           -1                  96   \n",
       "2            0                 136          104                 124   \n",
       "3            0                 136          104                 137   \n",
       "4            0                  -1           -1                 175   \n",
       "\n",
       "   smart_3_raw  smart_4_normalized      ...        smart_242_normalized  \\\n",
       "0          540                 100      ...                          -1   \n",
       "1            0                 100      ...                         100   \n",
       "2          566                 100      ...                          -1   \n",
       "3          507                 100      ...                          -1   \n",
       "4         6250                 100      ...                          -1   \n",
       "\n",
       "   smart_242_raw  smart_250_normalized  smart_250_raw  smart_251_normalized  \\\n",
       "0   0.000000e+00                    -1             -1                    -1   \n",
       "1  1.316882e-315                    -1             -1                    -1   \n",
       "2   0.000000e+00                    -1             -1                    -1   \n",
       "3   0.000000e+00                    -1             -1                    -1   \n",
       "4   0.000000e+00                    -1             -1                    -1   \n",
       "\n",
       "   smart_251_raw  smart_252_normalized  smart_252_raw  smart_254_normalized  \\\n",
       "0             -1                    -1             -1                    -1   \n",
       "1             -1                    -1             -1                    -1   \n",
       "2             -1                    -1             -1                    -1   \n",
       "3             -1                    -1             -1                    -1   \n",
       "4             -1                    -1             -1                    -1   \n",
       "\n",
       "   smart_254_raw  \n",
       "0             -1  \n",
       "1             -1  \n",
       "2             -1  \n",
       "3             -1  \n",
       "4             -1  \n",
       "\n",
       "[5 rows x 89 columns]"
      ]
     },
     "execution_count": 36,
     "metadata": {},
     "output_type": "execute_result"
    }
   ],
   "source": [
    "'''\n",
    "#columns_to_drop =['date','smart_1_normalized', 'smart_1_raw', \n",
    "#'smart_2_normalized', 'smart_2_raw',\n",
    "#'smart_3_normalized', 'smart_3_raw', 'smart_4_normalized', 'smart_4_raw',\n",
    "#'smart_7_normalized', 'smart_7_raw', 'smart_8_normalized', 'smart_8_raw', \n",
    "#'smart_9_normalized', 'smart_9_raw', 'smart_13_normalized', 'smart_13_raw',\n",
    "#'smart_190_normalized', 'smart_190_raw', 'smart_191_normalized', 'smart_191_raw',\n",
    "#'smart_192_normalized', 'smart_192_raw', 'smart_193_normalized', 'smart_193_raw', \n",
    "#'smart_194_normalized', 'smart_194_raw', 'smart_195_normalized', 'smart_195_raw', \n",
    "#'smart_199_normalized', 'smart_199_raw', 'smart_200_normalized', 'smart_200_raw',\n",
    "#'smart_220_normalized', 'smart_220_raw', 'smart_222_normalized', 'smart_222_raw',\n",
    "#'smart_223_normalized', 'smart_223_raw', 'smart_224_normalized', 'smart_224_raw', \n",
    "#'smart_225_normalized', 'smart_225_raw', 'smart_226_normalized', 'smart_226_raw', \n",
    "#'smart_240_normalized', 'smart_240_raw', 'smart_241_normalized', 'smart_241_raw', \n",
    "#'smart_242_normalized', 'smart_242_raw', 'smart_250_normalized', 'smart_250_raw', \n",
    "#'smart_251_normalized', 'smart_251_raw', 'smart_252_normalized', 'smart_252_raw', \n",
    "#'smart_254_normalized', 'smart_254_raw', 'smart_255_normalized', 'smart_255_raw']\n",
    "'''\n",
    "columns_to_drop =['date', 'capacity_bytes']\n",
    "hdd.drop(columns_to_drop, inplace=True, axis=1)\n",
    "\n",
    "# drop constant columns\n",
    "hdd = hdd.loc[:, ~hdd.isnull().all()]\n",
    "# remove normalized values that are left\n",
    "#hdd = hdd.select(lambda x: x[-10:] != 'normalized', axis=1)\n",
    "\n",
    "# no null values left. \n",
    "hdd.isnull().any()\n",
    "hdd.fillna(-1, inplace=True)\n",
    "#hdd = hdd.drop(['model', 'capacity_bytes'], axis=1)\n",
    "hdd.head()"
   ]
  },
  {
   "cell_type": "code",
   "execution_count": 37,
   "metadata": {
    "collapsed": false
   },
   "outputs": [
    {
     "data": {
      "text/plain": [
       "(3179295, 89)"
      ]
     },
     "execution_count": 37,
     "metadata": {},
     "output_type": "execute_result"
    }
   ],
   "source": [
    "hdd.shape"
   ]
  },
  {
   "cell_type": "code",
   "execution_count": 38,
   "metadata": {
    "collapsed": false
   },
   "outputs": [
    {
     "data": {
      "text/plain": [
       "Index([u'serial_number', u'model', u'failure', u'smart_1_normalized',\n",
       "       u'smart_1_raw', u'smart_2_normalized', u'smart_2_raw',\n",
       "       u'smart_3_normalized', u'smart_3_raw', u'smart_4_normalized',\n",
       "       u'smart_4_raw', u'smart_5_normalized', u'smart_5_raw',\n",
       "       u'smart_7_normalized', u'smart_7_raw', u'smart_8_normalized',\n",
       "       u'smart_8_raw', u'smart_9_normalized', u'smart_9_raw',\n",
       "       u'smart_10_normalized', u'smart_10_raw', u'smart_11_normalized',\n",
       "       u'smart_11_raw', u'smart_12_normalized', u'smart_12_raw',\n",
       "       u'smart_13_normalized', u'smart_13_raw', u'smart_22_normalized',\n",
       "       u'smart_22_raw', u'smart_183_normalized', u'smart_183_raw',\n",
       "       u'smart_184_normalized', u'smart_184_raw', u'smart_187_normalized',\n",
       "       u'smart_187_raw', u'smart_188_normalized', u'smart_188_raw',\n",
       "       u'smart_189_normalized', u'smart_189_raw', u'smart_190_normalized',\n",
       "       u'smart_190_raw', u'smart_191_normalized', u'smart_191_raw',\n",
       "       u'smart_192_normalized', u'smart_192_raw', u'smart_193_normalized',\n",
       "       u'smart_193_raw', u'smart_194_normalized', u'smart_194_raw',\n",
       "       u'smart_195_normalized', u'smart_195_raw', u'smart_196_normalized',\n",
       "       u'smart_196_raw', u'smart_197_normalized', u'smart_197_raw',\n",
       "       u'smart_198_normalized', u'smart_198_raw', u'smart_199_normalized',\n",
       "       u'smart_199_raw', u'smart_200_normalized', u'smart_200_raw',\n",
       "       u'smart_201_normalized', u'smart_201_raw', u'smart_220_normalized',\n",
       "       u'smart_220_raw', u'smart_222_normalized', u'smart_222_raw',\n",
       "       u'smart_223_normalized', u'smart_223_raw', u'smart_224_normalized',\n",
       "       u'smart_224_raw', u'smart_225_normalized', u'smart_225_raw',\n",
       "       u'smart_226_normalized', u'smart_226_raw', u'smart_240_normalized',\n",
       "       u'smart_240_raw', u'smart_241_normalized', u'smart_241_raw',\n",
       "       u'smart_242_normalized', u'smart_242_raw', u'smart_250_normalized',\n",
       "       u'smart_250_raw', u'smart_251_normalized', u'smart_251_raw',\n",
       "       u'smart_252_normalized', u'smart_252_raw', u'smart_254_normalized',\n",
       "       u'smart_254_raw'],\n",
       "      dtype='object')"
      ]
     },
     "execution_count": 38,
     "metadata": {},
     "output_type": "execute_result"
    }
   ],
   "source": [
    "hdd.columns"
   ]
  },
  {
   "cell_type": "markdown",
   "metadata": {},
   "source": [
    "Since each vendor handles SMART data differently, we are going to select a specific model for our dataset. The Seagate disk ST4000DM000 has the most failures, so it is the best candidate."
   ]
  },
  {
   "cell_type": "code",
   "execution_count": 39,
   "metadata": {
    "collapsed": false
   },
   "outputs": [
    {
     "data": {
      "text/plain": [
       "(1681473, 89)"
      ]
     },
     "execution_count": 39,
     "metadata": {},
     "output_type": "execute_result"
    }
   ],
   "source": [
    "# select specific model, since vendors differ on how SMART values are used\n",
    "hdd = hdd.query('model == \"ST4000DM000\"')\n",
    "hdd.shape"
   ]
  },
  {
   "cell_type": "code",
   "execution_count": 40,
   "metadata": {
    "collapsed": false
   },
   "outputs": [
    {
     "data": {
      "text/html": [
       "<div>\n",
       "<table border=\"1\" class=\"dataframe\">\n",
       "  <thead>\n",
       "    <tr style=\"text-align: right;\">\n",
       "      <th></th>\n",
       "      <th>serial_number</th>\n",
       "      <th>model</th>\n",
       "      <th>failure</th>\n",
       "      <th>smart_1_normalized</th>\n",
       "      <th>smart_1_raw</th>\n",
       "      <th>smart_2_normalized</th>\n",
       "      <th>smart_2_raw</th>\n",
       "      <th>smart_3_normalized</th>\n",
       "      <th>smart_3_raw</th>\n",
       "      <th>smart_4_normalized</th>\n",
       "      <th>...</th>\n",
       "      <th>smart_242_normalized</th>\n",
       "      <th>smart_242_raw</th>\n",
       "      <th>smart_250_normalized</th>\n",
       "      <th>smart_250_raw</th>\n",
       "      <th>smart_251_normalized</th>\n",
       "      <th>smart_251_raw</th>\n",
       "      <th>smart_252_normalized</th>\n",
       "      <th>smart_252_raw</th>\n",
       "      <th>smart_254_normalized</th>\n",
       "      <th>smart_254_raw</th>\n",
       "    </tr>\n",
       "  </thead>\n",
       "  <tbody>\n",
       "    <tr>\n",
       "      <th>1</th>\n",
       "      <td>30154</td>\n",
       "      <td>ST4000DM000</td>\n",
       "      <td>0</td>\n",
       "      <td>113</td>\n",
       "      <td>54551400</td>\n",
       "      <td>-1</td>\n",
       "      <td>-1</td>\n",
       "      <td>96</td>\n",
       "      <td>0</td>\n",
       "      <td>100</td>\n",
       "      <td>...</td>\n",
       "      <td>100</td>\n",
       "      <td>1.316882e-315</td>\n",
       "      <td>-1</td>\n",
       "      <td>-1</td>\n",
       "      <td>-1</td>\n",
       "      <td>-1</td>\n",
       "      <td>-1</td>\n",
       "      <td>-1</td>\n",
       "      <td>-1</td>\n",
       "      <td>-1</td>\n",
       "    </tr>\n",
       "    <tr>\n",
       "      <th>7</th>\n",
       "      <td>2976</td>\n",
       "      <td>ST4000DM000</td>\n",
       "      <td>0</td>\n",
       "      <td>107</td>\n",
       "      <td>13985080</td>\n",
       "      <td>-1</td>\n",
       "      <td>-1</td>\n",
       "      <td>97</td>\n",
       "      <td>0</td>\n",
       "      <td>100</td>\n",
       "      <td>...</td>\n",
       "      <td>100</td>\n",
       "      <td>1.761059e-314</td>\n",
       "      <td>-1</td>\n",
       "      <td>-1</td>\n",
       "      <td>-1</td>\n",
       "      <td>-1</td>\n",
       "      <td>-1</td>\n",
       "      <td>-1</td>\n",
       "      <td>-1</td>\n",
       "      <td>-1</td>\n",
       "    </tr>\n",
       "    <tr>\n",
       "      <th>8</th>\n",
       "      <td>2975</td>\n",
       "      <td>ST4000DM000</td>\n",
       "      <td>0</td>\n",
       "      <td>116</td>\n",
       "      <td>109242152</td>\n",
       "      <td>-1</td>\n",
       "      <td>-1</td>\n",
       "      <td>97</td>\n",
       "      <td>0</td>\n",
       "      <td>100</td>\n",
       "      <td>...</td>\n",
       "      <td>100</td>\n",
       "      <td>2.551732e-314</td>\n",
       "      <td>-1</td>\n",
       "      <td>-1</td>\n",
       "      <td>-1</td>\n",
       "      <td>-1</td>\n",
       "      <td>-1</td>\n",
       "      <td>-1</td>\n",
       "      <td>-1</td>\n",
       "      <td>-1</td>\n",
       "    </tr>\n",
       "    <tr>\n",
       "      <th>9</th>\n",
       "      <td>21345</td>\n",
       "      <td>ST4000DM000</td>\n",
       "      <td>0</td>\n",
       "      <td>112</td>\n",
       "      <td>46112000</td>\n",
       "      <td>-1</td>\n",
       "      <td>-1</td>\n",
       "      <td>92</td>\n",
       "      <td>0</td>\n",
       "      <td>100</td>\n",
       "      <td>...</td>\n",
       "      <td>100</td>\n",
       "      <td>2.356922e-313</td>\n",
       "      <td>-1</td>\n",
       "      <td>-1</td>\n",
       "      <td>-1</td>\n",
       "      <td>-1</td>\n",
       "      <td>-1</td>\n",
       "      <td>-1</td>\n",
       "      <td>-1</td>\n",
       "      <td>-1</td>\n",
       "    </tr>\n",
       "    <tr>\n",
       "      <th>10</th>\n",
       "      <td>16688</td>\n",
       "      <td>ST4000DM000</td>\n",
       "      <td>0</td>\n",
       "      <td>116</td>\n",
       "      <td>117245752</td>\n",
       "      <td>-1</td>\n",
       "      <td>-1</td>\n",
       "      <td>93</td>\n",
       "      <td>0</td>\n",
       "      <td>100</td>\n",
       "      <td>...</td>\n",
       "      <td>100</td>\n",
       "      <td>6.064623e-313</td>\n",
       "      <td>-1</td>\n",
       "      <td>-1</td>\n",
       "      <td>-1</td>\n",
       "      <td>-1</td>\n",
       "      <td>-1</td>\n",
       "      <td>-1</td>\n",
       "      <td>-1</td>\n",
       "      <td>-1</td>\n",
       "    </tr>\n",
       "  </tbody>\n",
       "</table>\n",
       "<p>5 rows × 89 columns</p>\n",
       "</div>"
      ],
      "text/plain": [
       "    serial_number        model  failure  smart_1_normalized  smart_1_raw  \\\n",
       "1           30154  ST4000DM000        0                 113     54551400   \n",
       "7            2976  ST4000DM000        0                 107     13985080   \n",
       "8            2975  ST4000DM000        0                 116    109242152   \n",
       "9           21345  ST4000DM000        0                 112     46112000   \n",
       "10          16688  ST4000DM000        0                 116    117245752   \n",
       "\n",
       "    smart_2_normalized  smart_2_raw  smart_3_normalized  smart_3_raw  \\\n",
       "1                   -1           -1                  96            0   \n",
       "7                   -1           -1                  97            0   \n",
       "8                   -1           -1                  97            0   \n",
       "9                   -1           -1                  92            0   \n",
       "10                  -1           -1                  93            0   \n",
       "\n",
       "    smart_4_normalized      ...        smart_242_normalized  smart_242_raw  \\\n",
       "1                  100      ...                         100  1.316882e-315   \n",
       "7                  100      ...                         100  1.761059e-314   \n",
       "8                  100      ...                         100  2.551732e-314   \n",
       "9                  100      ...                         100  2.356922e-313   \n",
       "10                 100      ...                         100  6.064623e-313   \n",
       "\n",
       "    smart_250_normalized  smart_250_raw  smart_251_normalized  smart_251_raw  \\\n",
       "1                     -1             -1                    -1             -1   \n",
       "7                     -1             -1                    -1             -1   \n",
       "8                     -1             -1                    -1             -1   \n",
       "9                     -1             -1                    -1             -1   \n",
       "10                    -1             -1                    -1             -1   \n",
       "\n",
       "    smart_252_normalized  smart_252_raw  smart_254_normalized  smart_254_raw  \n",
       "1                     -1             -1                    -1             -1  \n",
       "7                     -1             -1                    -1             -1  \n",
       "8                     -1             -1                    -1             -1  \n",
       "9                     -1             -1                    -1             -1  \n",
       "10                    -1             -1                    -1             -1  \n",
       "\n",
       "[5 rows x 89 columns]"
      ]
     },
     "execution_count": 40,
     "metadata": {},
     "output_type": "execute_result"
    }
   ],
   "source": [
    "from sklearn.preprocessing import LabelEncoder\n",
    "serial_encoder = LabelEncoder()\n",
    "hdd['serial_number'] = serial_encoder.fit_transform(hdd['serial_number'].astype('str'))\n",
    "hdd.head()"
   ]
  },
  {
   "cell_type": "code",
   "execution_count": 41,
   "metadata": {
    "collapsed": false
   },
   "outputs": [
    {
     "name": "stdout",
     "output_type": "stream",
     "text": [
      "35057\n"
     ]
    },
    {
     "data": {
      "text/plain": [
       "35057"
      ]
     },
     "execution_count": 41,
     "metadata": {},
     "output_type": "execute_result"
    }
   ],
   "source": [
    "# number of unique hdd\n",
    "serials_df = pd.DataFrame()\n",
    "serials_df['serial_number'] = hdd['serial_number']\n",
    "serials_df.drop_duplicates('serial_number', inplace=True)\n",
    "print len(hdd['serial_number'].unique())\n",
    "serials_df.shape[0]\n"
   ]
  },
  {
   "cell_type": "code",
   "execution_count": 42,
   "metadata": {
    "collapsed": false
   },
   "outputs": [
    {
     "name": "stdout",
     "output_type": "stream",
     "text": [
      "139\n"
     ]
    }
   ],
   "source": [
    "#number of failed drives\n",
    "print hdd.loc[hdd['failure'] == 1].shape[0]"
   ]
  },
  {
   "cell_type": "code",
   "execution_count": 45,
   "metadata": {
    "collapsed": false
   },
   "outputs": [
    {
     "data": {
      "text/plain": [
       "(1681473, 46)"
      ]
     },
     "execution_count": 45,
     "metadata": {},
     "output_type": "execute_result"
    }
   ],
   "source": [
    "# remove normalized values that are left\n",
    "hdd = hdd.select(lambda x: x[-10:] != 'normalized', axis=1)\n",
    "hdd.shape"
   ]
  },
  {
   "cell_type": "code",
   "execution_count": 46,
   "metadata": {
    "collapsed": false
   },
   "outputs": [],
   "source": [
    "# remove model number\n",
    "hdd.drop(['model'], inplace=True, axis=1)"
   ]
  },
  {
   "cell_type": "markdown",
   "metadata": {},
   "source": [
    "## Resampling the data\n",
    "This dataset is extremely skewed.  169 failures out of 35057 drives.  The total number of records is 1681473, so an expected resampling should come close to doubling the size of the data."
   ]
  },
  {
   "cell_type": "code",
   "execution_count": 47,
   "metadata": {
    "collapsed": false
   },
   "outputs": [
    {
     "data": {
      "text/plain": [
       "(3362668, 45)"
      ]
     },
     "execution_count": 47,
     "metadata": {},
     "output_type": "execute_result"
    }
   ],
   "source": [
    "from imblearn.over_sampling import SMOTE\n",
    "# Apply SMOTE's\n",
    "X = hdd\n",
    "y = np.asarray(hdd['failure'])\n",
    "kind = 'regular'\n",
    "sm = SMOTE(kind='regular')\n",
    "#X.shape\n",
    "X_res, y_res = sm.fit_sample(X, y)\n",
    "X_res.shape"
   ]
  },
  {
   "cell_type": "markdown",
   "metadata": {},
   "source": [
    "Need to create s solution set, so we can compare predictions later on."
   ]
  },
  {
   "cell_type": "code",
   "execution_count": 48,
   "metadata": {
    "collapsed": false
   },
   "outputs": [
    {
     "data": {
      "text/html": [
       "<div>\n",
       "<table border=\"1\" class=\"dataframe\">\n",
       "  <thead>\n",
       "    <tr style=\"text-align: right;\">\n",
       "      <th></th>\n",
       "      <th>serial_number</th>\n",
       "      <th>failure</th>\n",
       "    </tr>\n",
       "  </thead>\n",
       "  <tbody>\n",
       "    <tr>\n",
       "      <th>1</th>\n",
       "      <td>30154</td>\n",
       "      <td>0</td>\n",
       "    </tr>\n",
       "    <tr>\n",
       "      <th>7</th>\n",
       "      <td>2976</td>\n",
       "      <td>0</td>\n",
       "    </tr>\n",
       "    <tr>\n",
       "      <th>8</th>\n",
       "      <td>2975</td>\n",
       "      <td>0</td>\n",
       "    </tr>\n",
       "    <tr>\n",
       "      <th>9</th>\n",
       "      <td>21345</td>\n",
       "      <td>0</td>\n",
       "    </tr>\n",
       "    <tr>\n",
       "      <th>10</th>\n",
       "      <td>16688</td>\n",
       "      <td>0</td>\n",
       "    </tr>\n",
       "  </tbody>\n",
       "</table>\n",
       "</div>"
      ],
      "text/plain": [
       "    serial_number  failure\n",
       "1           30154        0\n",
       "7            2976        0\n",
       "8            2975        0\n",
       "9           21345        0\n",
       "10          16688        0"
      ]
     },
     "execution_count": 48,
     "metadata": {},
     "output_type": "execute_result"
    }
   ],
   "source": [
    "#save solution set\n",
    "serial_df = pd.DataFrame()\n",
    "serial_df['serial_number'] = hdd['serial_number']\n",
    "serial_df['failure'] = hdd['failure']\n",
    "serial_df.head()"
   ]
  },
  {
   "cell_type": "code",
   "execution_count": 49,
   "metadata": {
    "collapsed": false
   },
   "outputs": [
    {
     "data": {
      "text/plain": [
       "(1681473, 2)"
      ]
     },
     "execution_count": 49,
     "metadata": {},
     "output_type": "execute_result"
    }
   ],
   "source": [
    "serial_df.shape"
   ]
  },
  {
   "cell_type": "code",
   "execution_count": 50,
   "metadata": {
    "collapsed": false
   },
   "outputs": [
    {
     "data": {
      "text/plain": [
       "Index([u'serial_number', u'failure', u'smart_1_raw', u'smart_2_raw',\n",
       "       u'smart_3_raw', u'smart_4_raw', u'smart_5_raw', u'smart_7_raw',\n",
       "       u'smart_8_raw', u'smart_9_raw', u'smart_10_raw', u'smart_11_raw',\n",
       "       u'smart_12_raw', u'smart_13_raw', u'smart_22_raw', u'smart_183_raw',\n",
       "       u'smart_184_raw', u'smart_187_raw', u'smart_188_raw', u'smart_189_raw',\n",
       "       u'smart_190_raw', u'smart_191_raw', u'smart_192_raw', u'smart_193_raw',\n",
       "       u'smart_194_raw', u'smart_195_raw', u'smart_196_raw', u'smart_197_raw',\n",
       "       u'smart_198_raw', u'smart_199_raw', u'smart_200_raw', u'smart_201_raw',\n",
       "       u'smart_220_raw', u'smart_222_raw', u'smart_223_raw', u'smart_224_raw',\n",
       "       u'smart_225_raw', u'smart_226_raw', u'smart_240_raw', u'smart_241_raw',\n",
       "       u'smart_242_raw', u'smart_250_raw', u'smart_251_raw', u'smart_252_raw',\n",
       "       u'smart_254_raw'],\n",
       "      dtype='object')"
      ]
     },
     "execution_count": 50,
     "metadata": {},
     "output_type": "execute_result"
    }
   ],
   "source": [
    "hdd.columns\n"
   ]
  },
  {
   "cell_type": "markdown",
   "metadata": {
    "collapsed": false,
    "scrolled": true
   },
   "source": [
    "## Writing the files\n",
    "\n"
   ]
  },
  {
   "cell_type": "code",
   "execution_count": 51,
   "metadata": {
    "collapsed": true
   },
   "outputs": [],
   "source": [
    "# save the clean, new files\n",
    "hdd.to_csv('../input/harddrive_resampled.csv', index=False)\n",
    "serial_df.to_csv('../input/solutions_resampled.csv', index=False)"
   ]
  }
 ],
 "metadata": {
  "kernelspec": {
   "display_name": "Python 2",
   "language": "python",
   "name": "python2"
  },
  "language_info": {
   "codemirror_mode": {
    "name": "ipython",
    "version": 2
   },
   "file_extension": ".py",
   "mimetype": "text/x-python",
   "name": "python",
   "nbconvert_exporter": "python",
   "pygments_lexer": "ipython2",
   "version": "2.7.10"
  }
 },
 "nbformat": 4,
 "nbformat_minor": 2
}
